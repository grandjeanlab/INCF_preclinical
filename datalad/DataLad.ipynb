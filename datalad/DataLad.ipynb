{
 "cells": [
  {
   "cell_type": "markdown",
   "id": "9f728871-f272-462f-97b3-15981a7c0b84",
   "metadata": {},
   "source": [
    "# Data Management for Neuroimaging with DataLad\n",
    "alt. title A practical introduction to DataLad\n",
    "\n",
    "Welcome to this introduction to DataLad at the INCF Neuroinformatics 2023."
   ]
  },
  {
   "cell_type": "markdown",
   "id": "5467babc-d480-4d38-add4-1deac4181d75",
   "metadata": {},
   "source": [
    "## Introduction and setup\n",
    "\n",
    "To run the notebook, you need to have **DataLad** and its external dependencies, **Git** and **git-annex** installed. Several installation methods are available, and are covered in [DataLad handbook](https://handbook.datalad.org/en/latest/intro/installation.html#install) or on [DataLad's website](https://www.datalad.org/#install). Additionally, you need two DataLad extensions: **datalad-next** and **datalad-containers** (both available as Python packages, through pip). For our examples, we will also need...\n",
    "\n",
    "We strongly recommend running the tutorial in a virtual environment (either conda or virtualenv). Many users find using conda the easiest, because you can install datalad, git, and git-annex with conda. It is also possible to use virtualenv (virtualenvwrapper), install DataLad with pip, and use system-wide installation of git and git-annex.\n",
    "\n",
    "Note to Windows users: this notebook uses bash kernel. Although the workflow would, in principle, be the same on Windows, differences between bash / cmd / PowerShell make this notebook incompatible."
   ]
  },
  {
   "cell_type": "markdown",
   "id": "0501a798-d913-4ce7-8f2b-9f5c773feb4d",
   "metadata": {},
   "source": [
    "If you are unsure about your version of DataLad, you can check it using the following command:"
   ]
  },
  {
   "cell_type": "code",
   "execution_count": null,
   "id": "9bb3f887-566a-49d3-b205-542b873a7085",
   "metadata": {},
   "outputs": [],
   "source": [
    "datalad --version"
   ]
  },
  {
   "cell_type": "markdown",
   "id": "fc903c66-fa2b-483f-9ee4-96d7950e36db",
   "metadata": {},
   "source": [
    "### Git identity\n",
    "If you are unsure if you have configured your Git identity already, you can check if your name and email are printed to the terminal when you run"
   ]
  },
  {
   "cell_type": "code",
   "execution_count": null,
   "id": "d9672f6c-bdf8-449a-ba04-e50b8db605e5",
   "metadata": {},
   "outputs": [],
   "source": [
    "git config --get user.name\n",
    "git config --get user.email"
   ]
  },
  {
   "cell_type": "markdown",
   "id": "0e242aca-f561-40a8-bc93-e282ba452e66",
   "metadata": {},
   "source": [
    "If nothing is returned, you need to configure your Git identity."
   ]
  },
  {
   "cell_type": "code",
   "execution_count": null,
   "id": "4073e891-de29-4c0e-8003-16d5213adf70",
   "metadata": {},
   "outputs": [],
   "source": [
    "# git config --global --add user.name \"Bob McBobface\"\n",
    "# git config --global --add user.email \"bobmcbobface@uw.edu\""
   ]
  },
  {
   "cell_type": "markdown",
   "id": "6b1a9b23-6e7b-408a-8f55-3da58e99a711",
   "metadata": {},
   "source": [
    "## Using DataLad\n",
    "\n",
    "DataLad is a command line tool and it has a Python API. It also has a GUI for basic commands ([datalad-gooey](http://docs.datalad.org/projects/gooey/en/latest/?badge=latest))\n",
    "\n",
    "We'll operate it through the command line, but this is how you would do it in Python API:\n",
    "\n",
    "``` python\n",
    "import datalad.api as dl\n",
    "dl.create(path='mydataset')\n",
    "```\n",
    "\n",
    "In scripts using other programming languages, DataLad commands can be invoked via system calls. Here is an example with R:\n",
    "\n",
    "``` R\n",
    "system(\"datalad create mydataset\"))\n",
    "```\n",
    "\n",
    "In the command line, typical usage consists of the datalad main command, optionally parametrized with additional flags, followed by a subcommand and its own optional flags.\n",
    "\n",
    "![image](https://handbook.datalad.org/en/latest/_images/command-structure.png)"
   ]
  },
  {
   "cell_type": "code",
   "execution_count": null,
   "id": "2c0ff7a9-93bb-4440-80d3-477e61ca94f0",
   "metadata": {},
   "outputs": [],
   "source": [
    "# print some information about the system to the terminal\n",
    "datalad wtf -S system"
   ]
  },
  {
   "cell_type": "code",
   "execution_count": null,
   "id": "9df67cf8-0f6a-4747-8802-a1ad9a8265c8",
   "metadata": {},
   "outputs": [],
   "source": [
    "# display short help\n",
    "datalad wtf -h"
   ]
  },
  {
   "cell_type": "code",
   "execution_count": null,
   "id": "4e911258-6ccd-447a-be36-6b0398af6dce",
   "metadata": {},
   "outputs": [],
   "source": [
    "datalad wtf --help"
   ]
  },
  {
   "cell_type": "code",
   "execution_count": null,
   "id": "0a62696f-9031-4c05-8167-bb0790d542aa",
   "metadata": {},
   "outputs": [],
   "source": [
    "# Technical section: remove the dataset created in the previous run\n",
    "if [ -f ./my-analysis/.datalad/config ]; then datalad drop --what all --reckless kill --recursive --dataset my-analysis; fi"
   ]
  },
  {
   "cell_type": "markdown",
   "id": "12f314d0-30d4-44b6-b238-9f629fb1727d",
   "metadata": {},
   "source": [
    "## DataLad datasets\n",
    "Everything happens in or involves DataLad datasets - DataLad’s core data structure. Datalad create only needs a name, and it will subsequently create a new directory under this name and instruct DataLad to manage it."
   ]
  },
  {
   "cell_type": "code",
   "execution_count": null,
   "id": "8c8c0778-c57e-4104-b253-cf8277118638",
   "metadata": {},
   "outputs": [],
   "source": [
    "datalad create my-analysis"
   ]
  },
  {
   "cell_type": "code",
   "execution_count": null,
   "id": "a0d5d7cc-37f1-4597-a8e3-7d7218c2a84f",
   "metadata": {},
   "outputs": [],
   "source": [
    "cd my-analysis"
   ]
  },
  {
   "cell_type": "markdown",
   "id": "a2aa06c7-3945-4121-85fb-115c170cdc30",
   "metadata": {},
   "source": [
    "DataLad uses two mechanisms: git and git-annex to manage files. In this tutorial we will explicitly say which files we do not want to give to git-annex. We'll use some bash-fu to add two configuration lines to the `.gitattributes` file if they're not already present (normally we'd edit the file in a text editor).\n",
    "```\n",
    "README.md annex.largefiles=nothing\n",
    "code/* annex.largefiles=nothing\n",
    "```"
   ]
  },
  {
   "cell_type": "code",
   "execution_count": null,
   "id": "2cb46177-69ae-4cf0-813b-90ea22b02057",
   "metadata": {},
   "outputs": [],
   "source": [
    "grep -qF 'README.md' .gitattributes || echo \"README.md annex.largefiles=nothing\" >> .gitattributes\n",
    "grep -qF 'code' .gitattributes || echo \"code/* annex.largefiles=nothing\" >> .gitattributes"
   ]
  },
  {
   "cell_type": "code",
   "execution_count": null,
   "id": "76739969-5782-4df6-b09c-1435bca73770",
   "metadata": {},
   "outputs": [],
   "source": [
    "cat .gitattributes"
   ]
  },
  {
   "cell_type": "code",
   "execution_count": null,
   "id": "76fad617-d162-43d9-8f6e-d0916579f478",
   "metadata": {},
   "outputs": [],
   "source": [
    "git status"
   ]
  },
  {
   "cell_type": "code",
   "execution_count": null,
   "id": "150624e0-5778-4e42-aee4-f75f0b8d0ac6",
   "metadata": {},
   "outputs": [],
   "source": []
  }
 ],
 "metadata": {
  "kernelspec": {
   "display_name": "Bash",
   "language": "bash",
   "name": "bash"
  },
  "language_info": {
   "codemirror_mode": "shell",
   "file_extension": ".sh",
   "mimetype": "text/x-sh",
   "name": "bash"
  }
 },
 "nbformat": 4,
 "nbformat_minor": 5
}
