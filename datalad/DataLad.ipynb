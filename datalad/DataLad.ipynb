{
 "cells": [
  {
   "cell_type": "markdown",
   "id": "9f728871-f272-462f-97b3-15981a7c0b84",
   "metadata": {},
   "source": [
    "# Data Management for Neuroimaging with DataLad\n",
    "\n",
    "Welcome to this introduction to DataLad at the INCF Neuroinformatics 2023. You can follow the tutorial by executing the code blocks.\n",
    "\n",
    "The tutorial is based on [Neurohackdemy 2022: Data Management for Neuroimaging with DataLad](https://handbook.datalad.org/en/latest/code_from_chapters/neurohackademy.html) and was created with Datalad 0.19.3."
   ]
  },
  {
   "cell_type": "markdown",
   "id": "5467babc-d480-4d38-add4-1deac4181d75",
   "metadata": {},
   "source": [
    "## Introduction and setup\n",
    "\n",
    "To run the notebook, you need to have **DataLad** and its external dependencies, **Git** and **git-annex** installed. Several installation methods are available, and are covered in [DataLad handbook](https://handbook.datalad.org/en/latest/intro/installation.html#install) or on [DataLad's website](https://www.datalad.org/#install). Additionally, you need two DataLad extensions: **datalad-next** and (optionally) **datalad-containers** (both available as Python packages, through pip). For our examples, we will also need the following Python packages: **black**, **nilearn** and **matplotlib**.\n",
    "\n",
    "We strongly recommend running the tutorial in a virtual environment (either conda or virtualenv). Many users find using conda the easiest, because you can install datalad, git, and git-annex with conda. It is also possible to use virtualenv (virtualenvwrapper), install DataLad with pip, and use system-wide installation of git and git-annex.\n",
    "\n",
    "Note to Windows users: this notebook uses bash kernel. Although the workflow would, in principle, be the same on Windows, differences between bash / cmd / PowerShell make this notebook incompatible."
   ]
  },
  {
   "cell_type": "code",
   "execution_count": null,
   "id": "b818b062-f4cb-466c-9927-b0ebe1823a2a",
   "metadata": {},
   "outputs": [],
   "source": [
    "# pip install datalad # OR conda install datalad\n",
    "# pip install datalad-next datalad-container\n",
    "# pip install black nilearn matplotlib"
   ]
  },
  {
   "cell_type": "markdown",
   "id": "0501a798-d913-4ce7-8f2b-9f5c773feb4d",
   "metadata": {},
   "source": [
    "If you are unsure about your version of DataLad, you can check it using the following command:"
   ]
  },
  {
   "cell_type": "code",
   "execution_count": null,
   "id": "9bb3f887-566a-49d3-b205-542b873a7085",
   "metadata": {},
   "outputs": [],
   "source": [
    "datalad --version"
   ]
  },
  {
   "cell_type": "markdown",
   "id": "fc903c66-fa2b-483f-9ee4-96d7950e36db",
   "metadata": {},
   "source": [
    "### Git identity\n",
    "If you are unsure if you have configured your Git identity already, you can check if your name and email are printed to the terminal when you run"
   ]
  },
  {
   "cell_type": "code",
   "execution_count": null,
   "id": "d9672f6c-bdf8-449a-ba04-e50b8db605e5",
   "metadata": {},
   "outputs": [],
   "source": [
    "git config --get user.name\n",
    "git config --get user.email"
   ]
  },
  {
   "cell_type": "markdown",
   "id": "0e242aca-f561-40a8-bc93-e282ba452e66",
   "metadata": {},
   "source": [
    "If nothing is returned, you need to configure your Git identity."
   ]
  },
  {
   "cell_type": "code",
   "execution_count": null,
   "id": "4073e891-de29-4c0e-8003-16d5213adf70",
   "metadata": {},
   "outputs": [],
   "source": [
    "# git config --global --add user.name \"Bob McBobface\"\n",
    "# git config --global --add user.email \"bobmcbobface@uw.edu\""
   ]
  },
  {
   "cell_type": "markdown",
   "id": "6b1a9b23-6e7b-408a-8f55-3da58e99a711",
   "metadata": {},
   "source": [
    "## Using DataLad\n",
    "\n",
    "DataLad is a command line tool and it has a Python API. It also has a GUI for basic commands ([datalad-gooey](http://docs.datalad.org/projects/gooey/en/latest/?badge=latest))\n",
    "\n",
    "We'll operate it through the command line, but this is how you would do it in Python API:\n",
    "\n",
    "``` python\n",
    "import datalad.api as dl\n",
    "dl.create(path='mydataset')\n",
    "```\n",
    "\n",
    "In scripts using other programming languages, DataLad commands can be invoked via system calls. Here is an example with R:\n",
    "\n",
    "``` R\n",
    "system(\"datalad create mydataset\"))\n",
    "```\n",
    "\n",
    "In the command line, typical usage consists of the datalad main command, optionally parametrized with additional flags, followed by a subcommand and its own optional flags.\n",
    "\n",
    "![image](https://handbook.datalad.org/en/latest/_images/command-structure.png)"
   ]
  },
  {
   "cell_type": "code",
   "execution_count": null,
   "id": "9df67cf8-0f6a-4747-8802-a1ad9a8265c8",
   "metadata": {},
   "outputs": [],
   "source": [
    "# display short help for create\n",
    "datalad create -h"
   ]
  },
  {
   "cell_type": "code",
   "execution_count": null,
   "id": "4e911258-6ccd-447a-be36-6b0398af6dce",
   "metadata": {},
   "outputs": [],
   "source": [
    "datalad create --help"
   ]
  },
  {
   "cell_type": "code",
   "execution_count": null,
   "id": "0a62696f-9031-4c05-8167-bb0790d542aa",
   "metadata": {},
   "outputs": [],
   "source": [
    "# Technical section: remove the dataset created in the previous run\n",
    "if [ -f ./my-analysis/.datalad/config ]; then datalad drop --what all --reckless kill --recursive --dataset my-analysis; fi"
   ]
  },
  {
   "cell_type": "code",
   "execution_count": null,
   "id": "0d3dd381-d2d2-4809-9a6b-9b3c09547f41",
   "metadata": {},
   "outputs": [],
   "source": [
    "# Technical section: print working directory (want to be in INCF_preclinical/datalad)\n",
    "pwd"
   ]
  },
  {
   "cell_type": "markdown",
   "id": "12f314d0-30d4-44b6-b238-9f629fb1727d",
   "metadata": {},
   "source": [
    "## DataLad datasets\n",
    "Everything happens in or involves DataLad datasets - DataLad’s core data structure. Datalad create only needs a name, and it will subsequently create a new directory under this name and instruct DataLad to manage it."
   ]
  },
  {
   "cell_type": "code",
   "execution_count": null,
   "id": "8c8c0778-c57e-4104-b253-cf8277118638",
   "metadata": {},
   "outputs": [],
   "source": [
    "datalad create my-analysis"
   ]
  },
  {
   "cell_type": "code",
   "execution_count": null,
   "id": "a0d5d7cc-37f1-4597-a8e3-7d7218c2a84f",
   "metadata": {},
   "outputs": [],
   "source": [
    "cd my-analysis"
   ]
  },
  {
   "cell_type": "markdown",
   "id": "a2aa06c7-3945-4121-85fb-115c170cdc30",
   "metadata": {},
   "source": [
    "DataLad uses two mechanisms: git and git-annex to manage files. In this tutorial we will explicitly say which files we do not want to give to git-annex. We'll use some bash-fu to add two configuration lines to the `.gitattributes` file if they're not already present (normally we'd edit the file in a text editor).\n",
    "```\n",
    "README.md annex.largefiles=nothing\n",
    "code/* annex.largefiles=nothing\n",
    "```"
   ]
  },
  {
   "cell_type": "code",
   "execution_count": null,
   "id": "2cb46177-69ae-4cf0-813b-90ea22b02057",
   "metadata": {},
   "outputs": [],
   "source": [
    "grep -qF 'README.md' .gitattributes || echo \"README.md annex.largefiles=nothing\" >> .gitattributes\n",
    "grep -qF 'code' .gitattributes || echo \"code/* annex.largefiles=nothing\" >> .gitattributes\n",
    "cat .gitattributes"
   ]
  },
  {
   "cell_type": "code",
   "execution_count": null,
   "id": "76fad617-d162-43d9-8f6e-d0916579f478",
   "metadata": {},
   "outputs": [],
   "source": [
    "datalad save -m \"Set large files configuration\""
   ]
  },
  {
   "cell_type": "markdown",
   "id": "d6d83445-7b3c-4713-89d0-e8973c468670",
   "metadata": {},
   "source": [
    "## Version control\n",
    "\n",
    "Version controlling a file means to record its changes over time, associate those changes with an author, date, and identifier, creating a lineage of file content, and being able to revert changes or restore previous file versions. DataLad datasets make use of two established version control tools, Git and git-annex, to version control files regardless of size or type.\n",
    "\n",
    "Let’s start building a dataset for an analysis by adding a README. The command below writes a simple header into a new file README.md:"
   ]
  },
  {
   "cell_type": "code",
   "execution_count": null,
   "id": "a2121ccb-d616-4e92-9beb-d1d1d4bb637a",
   "metadata": {},
   "outputs": [],
   "source": [
    "echo \"# My example DataLad dataset\" > README.md"
   ]
  },
  {
   "cell_type": "code",
   "execution_count": null,
   "id": "1117edd9-f263-41a1-b6d7-dcefef1fd890",
   "metadata": {},
   "outputs": [],
   "source": [
    "datalad status"
   ]
  },
  {
   "cell_type": "markdown",
   "id": "1d11230b-9a34-4f78-9266-4508a2e58b08",
   "metadata": {},
   "source": [
    "New revisions (a.k.a. versions, snapshots, commits) are created explicitly:"
   ]
  },
  {
   "cell_type": "code",
   "execution_count": null,
   "id": "68f10ddb-6dba-4f8e-aaca-4e324dcf7b3b",
   "metadata": {},
   "outputs": [],
   "source": [
    "datalad save -m \"Create a short README\""
   ]
  },
  {
   "cell_type": "markdown",
   "id": "0336de18-6ba0-4e85-92be-9db5799b2622",
   "metadata": {},
   "source": [
    "Let's edit the text file more"
   ]
  },
  {
   "cell_type": "code",
   "execution_count": null,
   "id": "d225da95-1ca8-4d8a-9a61-6069ed4ff0ce",
   "metadata": {},
   "outputs": [],
   "source": [
    "echo \"This dataset contains a toy data analysis\" >> README.md"
   ]
  },
  {
   "cell_type": "code",
   "execution_count": null,
   "id": "0af92e4e-9a1f-4d7c-bec6-5175b7de59c0",
   "metadata": {},
   "outputs": [],
   "source": [
    "git diff"
   ]
  },
  {
   "cell_type": "code",
   "execution_count": null,
   "id": "76ae36fd-f0d1-4286-97d4-2913ddf89aa2",
   "metadata": {},
   "outputs": [],
   "source": [
    "datalad save -m \"Add information on the dataset contents to the README\""
   ]
  },
  {
   "cell_type": "markdown",
   "id": "53ca65a2-5b58-4f59-bf7a-2352f3e283a8",
   "metadata": {},
   "source": [
    "With each saved change, you build up your dataset’s revision history. Tools such as git log allow you to interrogate this history, and if you want to, you can use this history to find out what has been done in a dataset, reset it to previous states, and much more:"
   ]
  },
  {
   "cell_type": "code",
   "execution_count": null,
   "id": "2013b2f6-9112-4409-a4e9-d43891553d8a",
   "metadata": {},
   "outputs": [],
   "source": [
    "git log"
   ]
  },
  {
   "cell_type": "markdown",
   "id": "8c118f61-8049-45d0-aa97-fefca5515b4d",
   "metadata": {},
   "source": [
    "## DataLad containers\n",
    "- associate container with a dataset\n",
    "- simplify execution of commands within the container\n",
    "- see https://github.com/repronim/containers for a curated dataset with containers ready to use\n",
    "- see [Handbook section](https://handbook.datalad.org/en/latest/basics/101-133-containersrun.html) for introduction"
   ]
  },
  {
   "cell_type": "markdown",
   "id": "4d47886e-21c3-470b-b294-227a68139e1d",
   "metadata": {},
   "source": [
    "Adding a container (warning: 300 MB download)"
   ]
  },
  {
   "cell_type": "code",
   "execution_count": null,
   "id": "7bbe7d93-f075-4f13-aea6-ade063c34f83",
   "metadata": {},
   "outputs": [],
   "source": [
    "# datalad containers-add nilearn \\\n",
    "#     --url shub://adswa/nilearn-container:latest"
   ]
  },
  {
   "cell_type": "code",
   "execution_count": null,
   "id": "697e7478-6f67-42be-a248-8ac0f3b2f986",
   "metadata": {},
   "outputs": [],
   "source": [
    "# datalad containers-list"
   ]
  },
  {
   "cell_type": "markdown",
   "id": "a75d3044-f829-4a84-a7ae-1283be7c5f37",
   "metadata": {},
   "source": [
    "Expected output:\n",
    "```\n",
    "nilearn -> .datalad/environments/nilearn/image\n",
    "```"
   ]
  },
  {
   "cell_type": "markdown",
   "id": "2828249e-f37e-4a21-93b3-624e5c282b48",
   "metadata": {},
   "source": [
    "## Digital provenance\n",
    "\n",
    "- author / date\n",
    "- origin of file\n",
    "  - url\n",
    "  - command output"
   ]
  },
  {
   "cell_type": "markdown",
   "id": "5fb2582e-6125-44a6-8ba9-1d209631d51c",
   "metadata": {},
   "source": [
    "Download a script without provenance information:"
   ]
  },
  {
   "cell_type": "code",
   "execution_count": null,
   "id": "a4da7a77-2f1a-453b-8650-33a49c9add19",
   "metadata": {},
   "outputs": [],
   "source": [
    "wget -P code/ \\\n",
    "   https://raw.githubusercontent.com/datalad-handbook/resources/master/get_brainmask.py"
   ]
  },
  {
   "cell_type": "code",
   "execution_count": null,
   "id": "24d3ba61-22b2-4a4c-ade6-5432ef8ec150",
   "metadata": {},
   "outputs": [],
   "source": [
    "datalad status"
   ]
  },
  {
   "cell_type": "code",
   "execution_count": null,
   "id": "ef75c51c-b656-44c4-af8c-5a8812437941",
   "metadata": {},
   "outputs": [],
   "source": [
    "datalad save --message \"Adding a nilearn-based script for brain masking\""
   ]
  },
  {
   "cell_type": "markdown",
   "id": "775d6001-c2ab-459a-a627-d14b81f47e00",
   "metadata": {},
   "source": [
    "### Registering URLs\n",
    "\n",
    "Download a file (\"large\" file) with provenance tracking"
   ]
  },
  {
   "cell_type": "code",
   "execution_count": null,
   "id": "582bbc2b-c378-4db5-a1e9-85648809822f",
   "metadata": {},
   "outputs": [],
   "source": [
    "datalad download-url -m \"Add a tutorial on nilearn\" \\\n",
    "   -O docs/nilearn-tutorial.pdf \\\n",
    "   https://raw.githubusercontent.com/datalad-handbook/resources/master/nilearn-tutorial.pdf"
   ]
  },
  {
   "cell_type": "code",
   "execution_count": null,
   "id": "ed0d478d-7bbf-4a94-9c64-5c0f1ae9c762",
   "metadata": {},
   "outputs": [],
   "source": [
    "datalad status"
   ]
  },
  {
   "cell_type": "code",
   "execution_count": null,
   "id": "906cf303-dbd9-40f9-8e82-dc3650bd59b9",
   "metadata": {},
   "outputs": [],
   "source": [
    "git annex whereis docs/nilearn-tutorial.pdf"
   ]
  },
  {
   "cell_type": "markdown",
   "id": "696eeb46-f7f7-49e4-812d-57f027fe4b84",
   "metadata": {},
   "source": [
    "See also: `datalad addurls` command and [uncurl special remote](http://docs.datalad.org/projects/next/en/latest/generated/datalad_next.annexremotes.uncurl.html)"
   ]
  },
  {
   "cell_type": "markdown",
   "id": "a87578d1-76b3-45b8-a3df-8ea42796c259",
   "metadata": {},
   "source": [
    "### Recording command execution\n",
    "Reformat code - and record that fact"
   ]
  },
  {
   "cell_type": "code",
   "execution_count": null,
   "id": "4339591d-4cef-4af8-b9a3-d614624e0fd9",
   "metadata": {},
   "outputs": [],
   "source": [
    "datalad run -m \"Reformat code with black\" \\\n",
    " \"black code/get_brainmask.py\""
   ]
  },
  {
   "cell_type": "code",
   "execution_count": null,
   "id": "5c55a168-7ed5-4095-b2c9-da9a99b64114",
   "metadata": {},
   "outputs": [],
   "source": [
    "git show"
   ]
  },
  {
   "cell_type": "markdown",
   "id": "28d82423-ce6a-4c5b-b3ad-3cc2bfa75ac9",
   "metadata": {},
   "source": [
    "With provenance info we can re-run (reproduce)!"
   ]
  },
  {
   "cell_type": "code",
   "execution_count": null,
   "id": "a8df140b-64d3-4661-82e2-730d0569945e",
   "metadata": {},
   "outputs": [],
   "source": [
    "datalad rerun"
   ]
  },
  {
   "cell_type": "markdown",
   "id": "d4097014-6f19-44f4-94e7-e9bf15bcb1dc",
   "metadata": {},
   "source": [
    "## Data consumption and dataset nesting"
   ]
  },
  {
   "cell_type": "markdown",
   "id": "64a6f350-dabb-4fba-9ad4-c651f447b5c0",
   "metadata": {},
   "source": [
    "- install datasets from local or remote sources\n",
    "- clone datasets ‘as is’ as standalone data packages, or link datasets into one another in superdataset-subdataset hierarchies (“nesting”)\n",
    "- link datasets as modular units together, and maximize the potential for reuse"
   ]
  },
  {
   "cell_type": "markdown",
   "id": "3ed13337-48ab-4d6d-b8ea-dc0f2179f4aa",
   "metadata": {},
   "source": [
    "Get input data for our analysis by cloning some BIDS-structured data; register a subdataset under the name input:"
   ]
  },
  {
   "cell_type": "code",
   "execution_count": null,
   "id": "5f0c50b6-0d80-4c75-b925-58491712a44f",
   "metadata": {},
   "outputs": [],
   "source": [
    "datalad clone -d . \\\n",
    " https://gin.g-node.org/adswa/bids-data \\\n",
    " input"
   ]
  },
  {
   "cell_type": "markdown",
   "id": "079dca9e-fe5b-46bd-8dd9-4b9671731ce0",
   "metadata": {},
   "source": [
    "How linkage works:"
   ]
  },
  {
   "cell_type": "code",
   "execution_count": null,
   "id": "5e9e53ca-f5a1-4f07-8ee3-25e0560989ad",
   "metadata": {},
   "outputs": [],
   "source": [
    "git show"
   ]
  },
  {
   "cell_type": "code",
   "execution_count": null,
   "id": "d617398f-481e-4d51-a1a7-5d658245f689",
   "metadata": {},
   "outputs": [],
   "source": [
    "datalad tree --include-files input"
   ]
  },
  {
   "cell_type": "markdown",
   "id": "91378101-5f3e-4971-a363-b4b9043dfafd",
   "metadata": {},
   "source": [
    "## Data transport"
   ]
  },
  {
   "cell_type": "markdown",
   "id": "75339607-35a2-41d9-a913-184df2fcb92b",
   "metadata": {},
   "source": [
    "- cloning worked fast\n",
    "- we don't have *large* file content yet\n",
    "- we `get` them (files, directories) on demand"
   ]
  },
  {
   "cell_type": "code",
   "execution_count": null,
   "id": "5151f30d-852f-4071-93b4-36a95afa42a0",
   "metadata": {},
   "outputs": [],
   "source": [
    "datalad get input/sub-02"
   ]
  },
  {
   "cell_type": "markdown",
   "id": "2f941392-2af3-471c-9469-5aa5c7bd984a",
   "metadata": {},
   "source": [
    "Free up space"
   ]
  },
  {
   "cell_type": "code",
   "execution_count": null,
   "id": "b95556ca-ddde-4fa5-ad77-34f7c85f0ad0",
   "metadata": {},
   "outputs": [],
   "source": [
    "datalad drop input/sub-02"
   ]
  },
  {
   "cell_type": "markdown",
   "id": "a437ef63-5180-47bb-be7f-a5868c37b0c0",
   "metadata": {},
   "source": [
    "## Git and git-annex"
   ]
  },
  {
   "cell_type": "code",
   "execution_count": null,
   "id": "da0af024-0fea-40d2-845d-c22ef1046b45",
   "metadata": {},
   "outputs": [],
   "source": [
    "man --pager=\"head -n 5\" git"
   ]
  },
  {
   "cell_type": "markdown",
   "id": "5a011e74-dc63-47bc-a927-080ae13185fa",
   "metadata": {},
   "source": [
    "https://git-annex.branchable.com/how_it_works/\n",
    "> - With git-annex, git is instead \"a stupid filename and metadata tracker\".\n",
    "> - The contents of annexed files are not stored in git, only the names of the files and some other metadata remain there."
   ]
  },
  {
   "cell_type": "markdown",
   "id": "f4eae74b-a90d-4adf-91ad-066f0be8daee",
   "metadata": {},
   "source": [
    "![git and git annex](https://handbook.datalad.org/en/latest/_images/publishing_gitvsannex.svg)"
   ]
  },
  {
   "cell_type": "markdown",
   "id": "e0af19c9-6b29-445d-9d08-9e23c27fa274",
   "metadata": {},
   "source": [
    "## Computational reproducibility"
   ]
  },
  {
   "cell_type": "markdown",
   "id": "30c1f9db-ce97-42bb-8a4d-e987e69e54c2",
   "metadata": {},
   "source": [
    "- `datalad run` / `datalad containers run`\n",
    "- identical syntax\n",
    "  - `input` / `output`\n",
    "  - containers-run needs a container specification which container should be used\n",
    "- usage in tutorial depends whether Docker / Singularity is installed"
   ]
  },
  {
   "cell_type": "code",
   "execution_count": null,
   "id": "33bb5275-47dc-4af7-9608-be41959d86a6",
   "metadata": {},
   "outputs": [],
   "source": [
    "datalad run -m \"Compute brain mask\" \\\n",
    "  --input input/sub-02/func/sub-02_task-oneback_run-01_bold.nii.gz \\\n",
    "  --output \"figures/*\" \\\n",
    "  --output \"sub-02*\" \\\n",
    "  \"python code/get_brainmask.py\""
   ]
  },
  {
   "cell_type": "markdown",
   "id": "b184764b-5609-4cbe-950b-d6909f93e39d",
   "metadata": {},
   "source": [
    "See files that changed in last commit"
   ]
  },
  {
   "cell_type": "code",
   "execution_count": null,
   "id": "2a4a397c-cfea-4c79-8c09-046f452a8e7c",
   "metadata": {},
   "outputs": [],
   "source": [
    "git diff --name-only HEAD^1 HEAD"
   ]
  },
  {
   "cell_type": "markdown",
   "id": "d7b8e829-497d-44bb-ad96-318726695fd6",
   "metadata": {},
   "source": [
    "Query an individual file how it came to be"
   ]
  },
  {
   "cell_type": "code",
   "execution_count": null,
   "id": "5cd5b57b-02eb-4e44-8fd0-657b403e86db",
   "metadata": {},
   "outputs": [],
   "source": [
    "git log sub-02_brain-mask.nii.gz"
   ]
  },
  {
   "cell_type": "markdown",
   "id": "6dbbbc03-8859-47df-aafe-ac31fb5eef19",
   "metadata": {},
   "source": [
    "Reproduce a computation"
   ]
  },
  {
   "cell_type": "code",
   "execution_count": null,
   "id": "a78445bb-02ba-4448-96cd-09e40eddc937",
   "metadata": {},
   "outputs": [],
   "source": [
    "datalad rerun"
   ]
  },
  {
   "cell_type": "code",
   "execution_count": null,
   "id": "34ffbf16-20b3-4581-990a-5111ecd15ae8",
   "metadata": {},
   "outputs": [],
   "source": [
    "git log -n 2 --pretty=oneline"
   ]
  },
  {
   "cell_type": "markdown",
   "id": "e5bd3d0b-aed2-4f56-95f3-2fe9343ceac4",
   "metadata": {},
   "source": [
    "## Data publication\n",
    "\n",
    "- create *siblings* with `create-sibling-*` commands\n",
    "- siblings can hold Git part, git-annex part, or both\n",
    "- can interface with many locations (GitHub, Gitlab, AWS S3, Nextcloud, ...)\n",
    "\n",
    "We will use G-Node [GIN](https://gin.g-node.org/)\n",
    "\n",
    "Note: this section depends on additional config (not shown):\n",
    "- token\n",
    "- ssh key (best described in [GitHub docs](https://docs.github.com/en/authentication/connecting-to-github-with-ssh/about-ssh))\n",
    "\n",
    "See DataLad handbook [Third party infrastructure](https://handbook.datalad.org/en/latest/basics/basics-thirdparty.html#chapter-thirdparty) chapter for [GIN walkthrough](https://handbook.datalad.org/en/latest/basics/101-139-gin.html) "
   ]
  },
  {
   "cell_type": "code",
   "execution_count": null,
   "id": "e19a56f5-6595-47bd-ba60-502f37842457",
   "metadata": {},
   "outputs": [],
   "source": [
    "datalad create-sibling-gin \\\n",
    "  --name gin \\\n",
    "  --existing skip \\\n",
    "  incf01"
   ]
  },
  {
   "cell_type": "code",
   "execution_count": null,
   "id": "6fc400c4-c0d5-41ec-9e51-8c19efd84413",
   "metadata": {},
   "outputs": [],
   "source": [
    "datalad push --to gin"
   ]
  },
  {
   "cell_type": "markdown",
   "id": "a14dc827-4ad4-446f-b219-58d2367b1b15",
   "metadata": {},
   "source": [
    "## Cleaning up"
   ]
  },
  {
   "cell_type": "markdown",
   "id": "33f5c4cb-31bb-4935-8a0e-958b6379e368",
   "metadata": {},
   "source": [
    "- The demo wouldn’t have the term “data management” in its title if we were to leave clutter in your home directory\n",
    "- if you `rm` a file and save the deletion, the file can be brought back to life easily\n",
    "- and an `rm -rf` on a dataset with annexed files will cause an explosion of permission errors\n",
    "- `datalad drop` command is versatile"
   ]
  },
  {
   "cell_type": "markdown",
   "id": "327a2495-6eed-4859-be12-eebe289e460a",
   "metadata": {},
   "source": [
    "Remove local copies of *large* files"
   ]
  },
  {
   "cell_type": "code",
   "execution_count": null,
   "id": "36b65381-0bee-41ce-b2e6-9a246b3e6a9f",
   "metadata": {},
   "outputs": [],
   "source": [
    "datalad drop input/sub-02"
   ]
  },
  {
   "cell_type": "markdown",
   "id": "a0046691-81c9-4000-a57b-11e8c1c9c843",
   "metadata": {},
   "source": [
    "Uninstall datasets"
   ]
  },
  {
   "cell_type": "code",
   "execution_count": null,
   "id": "a7a70356-daae-4c03-bdb2-2bde8b8959e0",
   "metadata": {},
   "outputs": [],
   "source": [
    "datalad drop --what datasets input"
   ]
  },
  {
   "cell_type": "code",
   "execution_count": null,
   "id": "8796c75e-7d58-4867-a6d5-dd0d802fade7",
   "metadata": {},
   "outputs": [],
   "source": [
    "datalad tree"
   ]
  },
  {
   "cell_type": "markdown",
   "id": "3bb2d656-e7da-432f-9d62-5c22f4b2ad4e",
   "metadata": {},
   "source": [
    "Datalad `get` and `drop` are counterparts"
   ]
  },
  {
   "cell_type": "code",
   "execution_count": null,
   "id": "76ad822f-12c4-4a52-9bed-209fe480132a",
   "metadata": {},
   "outputs": [],
   "source": [
    "datalad get --no-data input"
   ]
  },
  {
   "cell_type": "markdown",
   "id": "e73d3242-76cc-4d90-9110-9293c22a01af",
   "metadata": {},
   "source": [
    "Drop has protections built in. By default it requires presence of 1 copy."
   ]
  },
  {
   "cell_type": "code",
   "execution_count": null,
   "id": "4b74d7ae-6e78-44ba-bbfb-7e36e2d60ac2",
   "metadata": {},
   "outputs": [],
   "source": [
    "git annex whereis figures/sub-02_brainmask.png"
   ]
  },
  {
   "cell_type": "code",
   "execution_count": null,
   "id": "5f7e75a5-2a3b-42b8-9ea2-b0692f5cd493",
   "metadata": {},
   "outputs": [],
   "source": [
    "datalad -c \"annex.numcopies=2\" drop figures/sub-02_brainmask.png"
   ]
  },
  {
   "cell_type": "markdown",
   "id": "e03df80a-5725-4f0c-be22-68bf5198cdb7",
   "metadata": {},
   "source": [
    "Restrictions can be bypassed:"
   ]
  },
  {
   "cell_type": "code",
   "execution_count": null,
   "id": "d90e44f6-064a-479c-9a27-12d037ce5ea6",
   "metadata": {},
   "outputs": [],
   "source": [
    "datalad -c \"annex.numcopies=2\" drop --reckless availability figures/sub-02_brainmask.png"
   ]
  },
  {
   "cell_type": "markdown",
   "id": "070dba97-80b5-47c3-9a66-4dbebe42f1d7",
   "metadata": {},
   "source": [
    "To remove a dataset entirely, without any checks"
   ]
  },
  {
   "cell_type": "code",
   "execution_count": null,
   "id": "66101d3e-0e0b-495b-b2ca-cd61740ebd69",
   "metadata": {},
   "outputs": [],
   "source": [
    "# cd ..\n",
    "# datalad drop --what all --reckless kill --recursive my-analysis"
   ]
  }
 ],
 "metadata": {
  "kernelspec": {
   "display_name": "Bash",
   "language": "bash",
   "name": "bash"
  },
  "language_info": {
   "codemirror_mode": "shell",
   "file_extension": ".sh",
   "mimetype": "text/x-sh",
   "name": "bash"
  }
 },
 "nbformat": 4,
 "nbformat_minor": 5
}
